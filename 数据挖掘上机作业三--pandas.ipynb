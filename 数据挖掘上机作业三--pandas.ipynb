{
 "cells": [
  {
   "cell_type": "markdown",
   "metadata": {},
   "source": [
    "# 实验三  pandas库基础实验"
   ]
  },
  {
   "cell_type": "markdown",
   "metadata": {},
   "source": [
    "# 实验目的\n",
    "1、掌握数组创建、数组属性、访问、数组形态变换操作  \n",
    "2、掌握数组常用计算  \n",
    "3、掌握数组统计分析操作    "
   ]
  },
  {
   "cell_type": "markdown",
   "metadata": {},
   "source": [
    "# <font face='微软雅黑' size= 5 color=red> **作业要求：**</font>  \n",
    "1、在**指定的时间**内完成指定作业并保存源文件，命名为**学号+姓名+第几次作业**  \n",
    "2、认真写好**总结**  \n",
    "3、提交时间：<font face='微软雅黑' size= 3 color=red>2023-10-18  </font>"
   ]
  },
  {
   "cell_type": "code",
   "execution_count": 3,
   "metadata": {
    "ExecuteTime": {
     "end_time": "2023-09-26T06:20:25.202859Z",
     "start_time": "2023-09-26T06:20:25.154859Z"
    }
   },
   "outputs": [
    {
     "name": "stdout",
     "output_type": "stream",
     "text": [
      "1 202105630109 段仡轩 [5, 2, 7, 16, 10, 11, 13, 19, 20]\n",
      "2 202105630110 李浩辰 [6, 2, 3, 15, 13, 14, 10, 19, 20]\n",
      "3 202105630114 刘盈 [4, 7, 8, 17, 10, 16, 13, 19, 20]\n",
      "4 202105630126 张科园 [9, 5, 3, 14, 18, 13, 12, 19, 20]\n",
      "5 202105630128 钟培琦 [1, 8, 5, 17, 15, 11, 13, 19, 20]\n",
      "6 202105630129 李志安 [8, 9, 7, 15, 11, 12, 16, 19, 20]\n",
      "7 202105630137 黄波 [9, 5, 2, 12, 18, 17, 11, 19, 20]\n",
      "8 202105630138 周杰 [3, 7, 1, 18, 11, 17, 16, 19, 20]\n",
      "9 202105630145 张帅彬 [7, 8, 9, 17, 14, 11, 12, 19, 20]\n",
      "10 202105630201 陈雨晴 [5, 4, 6, 12, 11, 14, 17, 19, 20]\n",
      "11 202105630202 竺科杰 [8, 3, 9, 10, 16, 17, 12, 19, 20]\n",
      "12 202105630204 冯宗麟 [9, 5, 1, 15, 17, 12, 10, 19, 20]\n",
      "13 202105630217 丁筱恋 [9, 8, 4, 17, 16, 18, 12, 19, 20]\n",
      "14 202105630218 彭思远 [8, 7, 2, 13, 14, 11, 18, 19, 20]\n",
      "15 202105630222 廖腾 [9, 1, 3, 11, 13, 15, 10, 19, 20]\n",
      "16 202105630224 徐临风 [1, 3, 6, 12, 16, 10, 15, 19, 20]\n",
      "17 202105630229 刘奇 [3, 7, 8, 14, 11, 17, 18, 19, 20]\n",
      "18 202105630230 向中锦 [7, 3, 2, 14, 13, 18, 11, 19, 20]\n",
      "19 202105630231 何奕峰 [5, 4, 1, 16, 14, 13, 15, 19, 20]\n",
      "20 202105630233 王嘉豪 [7, 2, 3, 15, 14, 18, 17, 19, 20]\n",
      "21 202105630240 李思杰 [4, 8, 2, 16, 11, 10, 17, 19, 20]\n",
      "22 202105630242 段蓝祁 [1, 7, 3, 17, 15, 12, 18, 19, 20]\n",
      "23 202105630245 谌炽杰 [4, 8, 7, 14, 13, 16, 11, 19, 20]\n",
      "24 202105630319 易欢 [8, 3, 4, 16, 17, 11, 12, 19, 20]\n",
      "25 202105630321 陈建宇 [4, 5, 1, 18, 17, 10, 14, 19, 20]\n",
      "26 202105630329 石志杰 [1, 6, 4, 10, 14, 12, 17, 19, 20]\n",
      "27 202105630401 王鑫淼 [9, 7, 3, 11, 10, 15, 12, 19, 20]\n",
      "28 202105630404 曾赫森 [3, 8, 5, 12, 11, 16, 15, 19, 20]\n",
      "29 202105630406 曹硕 [3, 5, 6, 14, 17, 15, 12, 19, 20]\n",
      "30 202105630407 胡植 [8, 5, 9, 14, 13, 15, 16, 19, 20]\n",
      "31 202105630408 张文雅 [4, 9, 8, 18, 13, 17, 10, 19, 20]\n",
      "32 202105630409 罗学聪 [1, 9, 5, 13, 14, 18, 17, 19, 20]\n",
      "33 202105630413 丁楷宸 [9, 7, 4, 12, 17, 14, 18, 19, 20]\n",
      "34 202105630414 李仪 [9, 2, 5, 18, 16, 11, 17, 19, 20]\n",
      "35 202105630415 肖义 [4, 1, 3, 15, 12, 13, 10, 19, 20]\n",
      "36 202105630428 邓超 [6, 2, 7, 18, 10, 16, 15, 19, 20]\n",
      "37 202105630434 曾诗杰 [3, 5, 1, 16, 17, 15, 10, 19, 20]\n",
      "38 202105630435 刘威 [5, 8, 7, 17, 12, 10, 11, 19, 20]\n",
      "39 202105630442 姚勋文 [3, 4, 8, 12, 14, 15, 13, 19, 20]\n",
      "40 202105630505 彭涛 [3, 8, 4, 16, 12, 10, 17, 19, 20]\n",
      "41 202105630518 唐文 [5, 3, 2, 18, 13, 14, 16, 19, 20]\n",
      "42 202105630527 刘星宇 [6, 1, 8, 10, 16, 18, 13, 19, 20]\n",
      "43 202105630530 丁子龙 [7, 9, 3, 13, 10, 14, 17, 19, 20]\n",
      "44 202105630536 郭俊杰 [1, 5, 4, 13, 11, 16, 18, 19, 20]\n",
      "45 202105630537 朱柯融 [2, 9, 8, 15, 14, 16, 10, 19, 20]\n",
      "46 202105630540 封理镫 [5, 6, 4, 11, 15, 16, 13, 19, 20]\n",
      "47 202105630541 唐茜 [5, 7, 2, 12, 13, 15, 18, 19, 20]\n",
      "48 202105630542 陈河吉 [1, 8, 5, 17, 12, 11, 15, 19, 20]\n",
      "49 202105630545 姚羽彤 [2, 8, 1, 14, 13, 11, 16, 19, 20]\n"
     ]
    }
   ],
   "source": [
    "import pandas as pd\n",
    "import random\n",
    "features = pd.read_excel('2021人工智能2考勤表.xlsx')\n",
    "for i in range(3,features.shape[0]):\n",
    "    x = features.iloc[i]\n",
    "    print(x[0],x[1],x[2],end=' ')\n",
    "    a = list(range(1,10))\n",
    "    random.shuffle(a)\n",
    "    b1 = a[0:3]\n",
    "    a = list(range(10,19))\n",
    "    random.shuffle(a)\n",
    "    b2 = a[0:4]\n",
    "    b3 = [19,20]\n",
    "    b = b1 + b2 + b3\n",
    "    print(b)\n"
   ]
  },
  {
   "cell_type": "code",
   "execution_count": 1,
   "metadata": {
    "ExecuteTime": {
     "end_time": "2023-09-26T06:19:08.948852Z",
     "start_time": "2023-09-26T06:19:08.930852Z"
    }
   },
   "outputs": [
    {
     "data": {
      "text/plain": [
       "[1, 2, 3, 2]"
      ]
     },
     "execution_count": 1,
     "metadata": {},
     "output_type": "execute_result"
    }
   ],
   "source": []
  },
  {
   "cell_type": "markdown",
   "metadata": {},
   "source": [
    "1、完成如下操作：（1）读取data文件夹下alarm.csv文件，并输出所有结果\n",
    "（2）读取data文件夹下alarm.csv文件，不读第2、4、8行，读取除2、4、8行行以外的前10行，输出结果\n",
    "（3）将（2）读取的内容存成新的文件alarm_test.csv"
   ]
  },
  {
   "cell_type": "markdown",
   "metadata": {},
   "source": [
    "2、编写程序，完成如下操作：（1）读取data文件夹下Baltimore_City_Employee_Salaries_FY2016.csv，并输出前10行的结果（2）抽取其中前两列的结果（'Name','JobTitle）存成新的文件name_job.csv"
   ]
  },
  {
   "cell_type": "markdown",
   "metadata": {},
   "source": [
    "3、编写程序，完成如下操作：（1）读取data文件下meal_order_detail.xlsx中的meal_order_detail3工作表，并输出前10行（2）读取data文件下meal.xlsx中的order工作表，并输出前10行（3）将读取的这两个文件都存入工作簿test+你的姓名 的excel文件，且工作簿的名称分别为detail和ord。"
   ]
  },
  {
   "cell_type": "markdown",
   "metadata": {},
   "source": [
    "4、编写程序，完成如下操作：（1）基于列表创建一个你们宿舍姓名的Series（2）基于数组创建一个对应（1）的Python成绩和金融学成绩的Series（3）基于以上三个Series创建一个DataFrame，并展示结果"
   ]
  },
  {
   "cell_type": "markdown",
   "metadata": {},
   "source": [
    "5、编写程序，完成如下功能：（1）创建一个索引为学号['001'，'002'，'003'，'004'，'005'，成绩为随机的Series(2)访问003的成绩（3）访问002-004的成绩（用标签和数字两种方式）（4）修改004的成绩为59（5）增加006的成绩 （6）访问大于60分的成绩 （7）求最好的成绩及其索引 （8）进行描述性统计（9）对成绩进行降序排序"
   ]
  },
  {
   "cell_type": "markdown",
   "metadata": {},
   "source": [
    "6、编写程序，完成如下功能：\n",
    "（1）读取tips.csv文件\n",
    "（2）根据读取的tips中total_bill创建一个Series变量\n",
    "（3）求total_bill的均值和个数\n",
    "（4）绘制total_bill的直方图，看其分布状况\n",
    "（5）访问total_bill超过30的数据"
   ]
  },
  {
   "cell_type": "markdown",
   "metadata": {},
   "source": [
    "7、编写程序，完成如下功能：（1）根据字典dic = {'城市':['北京','上海','广州','深圳','重庆'],  '人口（万）':[2171,2418,1090,1404,3372], 'GDP（万元）':[28000,30133,21500,22286,19530]}创建DataFrame，列表的排列顺序为城市、人口、GDP（2）设置城市为DataFrame为行索引（3）修改列名为GDP和人口（4）按照GDP值排序"
   ]
  },
  {
   "cell_type": "markdown",
   "metadata": {},
   "source": [
    "8、编写程序，完成如下操作：（1）创建一个10行4列的40-100的随机数组，根据这个数组创建DataFrame，列索引设置为math，python，english和economic（2）创建一个10行的Series，每个值从列表['a','b','c']随机选择，将这Series插入DataFrame的第一列，列名设置为class（3）按照class和python成绩排序 （4）访问python和english两列（5）访问math和economic都几个的行（6）将class类的['a','b','c']替换成数字[0,1,2]"
   ]
  },
  {
   "cell_type": "markdown",
   "metadata": {},
   "source": [
    "9、编写程序，完成如下操作：（1）读入data文件夹下的tips.csv（2）访问total_bill、tip列、sex的后10行值（3）访问女性且total_bill>20的记录的day,total_bill列（4）访问前20行的'day','total_bill'两列的值（5）访问访问Male且size大于3的行（6）最后20行的3到7列的信息（7）访问20到30条之间的sex和tip两列信息（8）按size列统计不同size的记录条数，并可视化"
   ]
  },
  {
   "cell_type": "markdown",
   "metadata": {},
   "source": [
    "10、编写程序，完成如下操作：（1）创建一个10行4列的40-100的随机数组，根据这个数组创建DataFrame，列索引设置为math，python，english和economic（2）将表中所有低于60分的值设为NaN（3）添加一列chinese和两行\n",
    "（4）删除english列和math列为空值的行"
   ]
  },
  {
   "cell_type": "markdown",
   "metadata": {},
   "source": [
    "11、读取order_clear.csv文件，完成如下操作：（1）将订单信息表中的use_start_time和lock_time转换为标准的时间格式（2）提取菜品数据中的lock_time年月日和星期信息（星期几），在原表上分别增加两列date和day进行存储（3）在原表上添加新列chekTime，用于保存锁单时间和订餐时间之差（4）删除锁单日期为空的行（5）统计不同day的订单次数，画柱状图（6）将chekTime的days为-1天的记录的lock_time改为其use_start_time值"
   ]
  },
  {
   "cell_type": "markdown",
   "metadata": {},
   "source": [
    "12、打开order_clear.csv文件，从lock_time中提取出日期，对order表按日期分组统计每天的accounts_payable,并画条形图"
   ]
  },
  {
   "cell_type": "markdown",
   "metadata": {},
   "source": [
    "13、读取tip.csv文件，完成如下操作：(1)对sex按day分组统计不同性别的人数（2）统计tips的不同sex的数值型列的和（3）tips的不同sex的total_bill,tip的均值，并画柱状图（4）对tips按time和sex分组统计不同星期的小费和总消费之和（5）统计不同的sex不同的time的次数"
   ]
  },
  {
   "cell_type": "markdown",
   "metadata": {},
   "source": [
    "14、读取tip.csv文件，完成如下操作：(1)同时统计total_bill的最大值、最小值、平均值与标准差（2）统计不同sex的tip的均值和time的频数（3）统计不同time的tip，total_bill的频数、均值与和"
   ]
  },
  {
   "cell_type": "markdown",
   "metadata": {},
   "source": [
    "15、读取tip.csv文件，完成如下操作：（1）用apply统计不同性别的total_bill和tip的均值（2）用tansform创建一新列存放不同day的total_bill均值（3）用apply将day的四个类别替换成四个数字：1，2，3，4"
   ]
  },
  {
   "cell_type": "markdown",
   "metadata": {},
   "source": [
    "16、读取tip.csv文件，完成如下操作：（1）按照sex分组，并输出每组total_bill和tips的最大值，并画出柱状图（2）按照sex和smoke分组，并输出每组的次数"
   ]
  },
  {
   "cell_type": "markdown",
   "metadata": {},
   "source": [
    "17、写入表单df = pd.DataFrame({'data1':list(range(1,13)), 'data2':np.random.randint(1,50,12), 'key':list('abc'*4)}) ，完成如下操作：（1）按照key进行分组，求data2的平均值，并画柱状图（2）添加一列data12为data1*data2的结果，按照key进行分组，求data2和data12的最大值，并画柱状图（两个子图）（3）首先按照key进行分组，求data1的平均值*data2的结果，并把这一列添加到df最后一列"
   ]
  },
  {
   "cell_type": "markdown",
   "metadata": {},
   "source": [
    "18、读取tip.csv文件，完成如下操作：(1)创建一个透视表，分组统计不同day不同time的tip的平均值（2）创建一个透视表，分组统计不同day不同time的tip和total_bill的最大值，要有汇总结果（3）创建一个透视表，分组统计不同sex不同smoker的tip的次数，要有汇总结果"
   ]
  },
  {
   "cell_type": "markdown",
   "metadata": {},
   "source": [
    "19、综合案例：分析巴尔的摩公务员工资情况\n",
    "* 现有一个美国公开的巴尔的摩公务员工工资表：包含以下字段\n",
    "     - Name:姓名；JobTittl:职位名称；AgencyID和Agency为工号和单位；HireDay为入职日期；AnnualSalary为年薪；GrossPay为总薪资（税前）\n",
    "* 完成以下操作：\n",
    "    * 数据清理：将所有GrossPay缺失值样本删除，年薪和薪资为字符串结构，将前面的\\$删除，然后转换成浮点型，新建一列，存放入职的月份  \n",
    "    * 数据探索：分析年薪的分布情况、公务人员入职情况，公务人员入职日期情况，年薪最高的职位和人数最多的职位。"
   ]
  },
  {
   "cell_type": "code",
   "execution_count": null,
   "metadata": {},
   "outputs": [],
   "source": [
    "import pandas as pd\n",
    "import numpy as np\n",
    "import datetime\n",
    "import matplotlib.pyplot as plt\n",
    "dfSalary=pd.read_csv('./data/Baltimore_City_Employee_Salaries_FY2016.csv')\n",
    "dfSalary.head()"
   ]
  },
  {
   "cell_type": "code",
   "execution_count": null,
   "metadata": {},
   "outputs": [],
   "source": [
    "#调用info()方法查看数据空值情况\n"
   ]
  },
  {
   "cell_type": "markdown",
   "metadata": {},
   "source": [
    "### 1）数据清洗\n",
    "* #由于样本足够，将所有GrossPay缺失值样本删除\n",
    "* #年薪和薪资为字符串结构，将前面的$删除，然后转换成浮点型\n",
    "* #新建一列，存放入职的月份"
   ]
  },
  {
   "cell_type": "code",
   "execution_count": null,
   "metadata": {},
   "outputs": [],
   "source": []
  },
  {
   "cell_type": "markdown",
   "metadata": {},
   "source": [
    "### 2)数据探索\n",
    "* #绘制年薪的直方图，分析年薪分布情况\n",
    "* 绘制入职月份计数柱状图，分析入职高峰期\n",
    "* 聚合计算各职位的年薪平均值 和职位个数\n",
    "* 对年薪平均值降序排列，查询最高5位\n",
    "*  职位个数最高的5位\n",
    "* 建一个交叉表，分析不同职位不同入职月份的情况"
   ]
  },
  {
   "cell_type": "code",
   "execution_count": null,
   "metadata": {},
   "outputs": [],
   "source": []
  },
  {
   "cell_type": "code",
   "execution_count": null,
   "metadata": {},
   "outputs": [],
   "source": []
  },
  {
   "cell_type": "markdown",
   "metadata": {},
   "source": [
    "20、detail表预处理操作（参考pandas数据预处理.ipynb)\n",
    "1. 对detail表完成数据清洗操作\n",
    "    - 记录去重和特征去重\n",
    "    - 删除所有空值列\n",
    "    - 用箱线图处理counts和amounts异常值\n",
    "2. 将三个detail表合为一个表\n",
    "3. 对amounts进行标准差标准化处理（最大最小和Z-score 标准化）\n",
    "4. 分别用等频法和等宽法将amounts转换为离散数据 \n",
    "5. 对dishes_name列离散特征变为连续特征"
   ]
  },
  {
   "cell_type": "markdown",
   "metadata": {},
   "source": [
    "# 总结"
   ]
  },
  {
   "cell_type": "code",
   "execution_count": null,
   "metadata": {},
   "outputs": [],
   "source": []
  }
 ],
 "metadata": {
  "kernelspec": {
   "display_name": "Python 3",
   "language": "python",
   "name": "python3"
  },
  "language_info": {
   "codemirror_mode": {
    "name": "ipython",
    "version": 3
   },
   "file_extension": ".py",
   "mimetype": "text/x-python",
   "name": "python",
   "nbconvert_exporter": "python",
   "pygments_lexer": "ipython3",
   "version": "3.7.6"
  },
  "toc": {
   "base_numbering": 1,
   "nav_menu": {},
   "number_sections": false,
   "sideBar": true,
   "skip_h1_title": false,
   "title_cell": "Table of Contents",
   "title_sidebar": "Contents",
   "toc_cell": false,
   "toc_position": {},
   "toc_section_display": true,
   "toc_window_display": false
  },
  "varInspector": {
   "cols": {
    "lenName": 16,
    "lenType": 16,
    "lenVar": 40
   },
   "kernels_config": {
    "python": {
     "delete_cmd_postfix": "",
     "delete_cmd_prefix": "del ",
     "library": "var_list.py",
     "varRefreshCmd": "print(var_dic_list())"
    },
    "r": {
     "delete_cmd_postfix": ") ",
     "delete_cmd_prefix": "rm(",
     "library": "var_list.r",
     "varRefreshCmd": "cat(var_dic_list()) "
    }
   },
   "types_to_exclude": [
    "module",
    "function",
    "builtin_function_or_method",
    "instance",
    "_Feature"
   ],
   "window_display": false
  }
 },
 "nbformat": 4,
 "nbformat_minor": 4
}
